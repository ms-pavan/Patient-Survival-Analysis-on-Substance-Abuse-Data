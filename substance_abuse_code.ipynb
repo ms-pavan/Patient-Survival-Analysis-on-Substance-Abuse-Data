{
 "cells": [
  {
   "cell_type": "code",
   "execution_count": 12,
   "metadata": {
    "collapsed": true
   },
   "outputs": [],
   "source": [
    "# importing dependencies\n",
    "import pandas as pd\n",
    "import numpy\n",
    "from sklearn.model_selection import train_test_split\n",
    "from sklearn.preprocessing import StandardScaler\n",
    "from sklearn.model_selection import train_test_split\n",
    "import lightgbm as lgb"
   ]
  },
  {
   "cell_type": "markdown",
   "metadata": {},
   "source": [
    "### Reading Data files Train and Test"
   ]
  },
  {
   "cell_type": "code",
   "execution_count": null,
   "metadata": {
    "collapsed": true
   },
   "outputs": [],
   "source": [
    "#drop columns CASEID, YEAR,DISYR from train data\n",
    "data=pd.read_csv(\"HackTrain.csv\")\n",
    "data=data.drop(['CASEID','YEAR','DISYR'],axis=1)\n",
    "\n",
    "#drop columns CASEID, DISYR from test data\n",
    "test=pd.read_csv(\"HackTest.csv\")\n",
    "test = test.drop(['CASEID','DISYR'], axis=1)"
   ]
  },
  {
   "cell_type": "markdown",
   "metadata": {},
   "source": [
    "### Data Preprocessing"
   ]
  },
  {
   "cell_type": "code",
   "execution_count": null,
   "metadata": {
    "collapsed": true
   },
   "outputs": [],
   "source": [
    "# replace null values with median in train and test data\n",
    "data=data.replace(-9.0,numpy.NaN)\n",
    "data=data.fillna(data.median())\n",
    "\n",
    "test=test.replace(-9.0,numpy.NaN)\n",
    "test=test.fillna(test.median())\n",
    "\n",
    "#select target feature for classification\n",
    "y_classification=data['REASON']\n",
    "X_classification=data.drop(['REASON','LOS'],axis=1)\n",
    "\n",
    "# select target feature for regression\n",
    "y_regression=data['LOS']\n",
    "X_regression=data.drop(['REASON','LOS'],axis=1)\n",
    "\n",
    "# normalizing data\n",
    "scaler = StandardScaler()\n",
    "X_classification_scaled=scaler.fit_transform(X_classification)\n",
    "X_regression_scaled=scaler.fit_transform(X_regression)\n",
    "test=scaler.fit_transform(test)\n",
    "\n",
    "\n",
    "\n",
    "\n",
    "\n",
    "\n"
   ]
  },
  {
   "cell_type": "markdown",
   "metadata": {},
   "source": [
    "### Train the classification model"
   ]
  },
  {
   "cell_type": "code",
   "execution_count": 13,
   "metadata": {},
   "outputs": [
    {
     "name": "stdout",
     "output_type": "stream",
     "text": [
      "Training until validation scores don't improve for 30 rounds.\n",
      "[100]\tvalid's auc: 0.805955\n",
      "[200]\tvalid's auc: 0.813876\n",
      "[300]\tvalid's auc: 0.81943\n",
      "[400]\tvalid's auc: 0.823801\n",
      "[500]\tvalid's auc: 0.827405\n",
      "[600]\tvalid's auc: 0.830628\n",
      "[700]\tvalid's auc: 0.833786\n",
      "[800]\tvalid's auc: 0.836649\n",
      "[900]\tvalid's auc: 0.839422\n",
      "Did not meet early stopping. Best iteration is:\n",
      "[900]\tvalid's auc: 0.839422\n"
     ]
    },
    {
     "name": "stderr",
     "output_type": "stream",
     "text": [
      "D:\\Anaconda\\lib\\site-packages\\sklearn\\preprocessing\\label.py:151: DeprecationWarning: The truth value of an empty array is ambiguous. Returning False, but in future this will result in an error. Use `array.size > 0` to check that an array is not empty.\n",
      "  if diff:\n"
     ]
    }
   ],
   "source": [
    "#split data into train and test\n",
    "X_train_classification, X_test_classification, y_train, y_test = train_test_split(X_classification_scaled, y_classification, test_size=0.33, random_state=42,stratify=y_classification)\n",
    "\n",
    "fit_params={\"early_stopping_rounds\":30, \n",
    "            \"eval_metric\" : 'auc', \n",
    "            \"eval_set\" : [(X_test_classification,y_test)],\n",
    "            'eval_names': ['valid'],            \n",
    "            'verbose': 100,\n",
    "            'categorical_feature': 'auto'}\n",
    "\n",
    "clf = lgb.LGBMClassifier(max_depth=-1, random_state=314, silent=True, metric='None', n_jobs=4, n_estimators=800)\n",
    "opt_parameters = {'colsample_bytree': 0.9234, 'min_child_samples': 399, 'min_child_weight': 0.1, 'num_leaves': 120, 'reg_alpha': 2, 'reg_lambda': 5, 'subsample': 0.855}\n",
    "\n",
    "clf_final = lgb.LGBMClassifier(**clf.get_params())\n",
    "#choosing optimal parameters\n",
    "clf_final.set_params(**opt_parameters)\n",
    "clf_final.fit(X_classification_scaled, y_classification, **fit_params)\n",
    "#predict test data values using trained model\n",
    "y_pred_classification=clf_final.predict(test)"
   ]
  },
  {
   "cell_type": "code",
   "execution_count": null,
   "metadata": {
    "collapsed": true
   },
   "outputs": [],
   "source": []
  },
  {
   "cell_type": "code",
   "execution_count": null,
   "metadata": {
    "collapsed": true
   },
   "outputs": [],
   "source": []
  },
  {
   "cell_type": "markdown",
   "metadata": {},
   "source": [
    "### Train the regression model"
   ]
  },
  {
   "cell_type": "code",
   "execution_count": 14,
   "metadata": {},
   "outputs": [],
   "source": [
    "d_train = lgb.Dataset(X_regression_scaled, y_regression)\n",
    "params = {\n",
    "    'boosting_type': 'gbdt',\n",
    "    'objective': 'regression',\n",
    "    'metric': {'l2', 'l1'},\n",
    "    'num_leaves': 100,\n",
    "    'learning_rate': 0.05,\n",
    "    'feature_fraction': 0.9,\n",
    "    'bagging_fraction': 0.8,\n",
    "    'bagging_freq': 5,\n",
    "    'verbose': 0\n",
    "}\n",
    "\n",
    "gbm = lgb.train(params,\n",
    "                d_train,\n",
    "                num_boost_round=1000)\n",
    "#predict test data values using trained model\n",
    "y_pred_regression=gbm.predict(test)"
   ]
  },
  {
   "cell_type": "markdown",
   "metadata": {},
   "source": [
    "### Export test data file"
   ]
  },
  {
   "cell_type": "code",
   "execution_count": 16,
   "metadata": {
    "collapsed": true
   },
   "outputs": [],
   "source": [
    "predictions=pd.DataFrame()\n",
    "test=pd.read_csv(\"HackTest.csv\")\n",
    "predictions['ID']=test['CASEID']\n",
    "predictions['LOS']=y_pred_regression\n",
    "predictions['REASON']=y_pred_classification\n",
    "predictions.to_csv('predictions320.csv',index=False,header=False)"
   ]
  },
  {
   "cell_type": "code",
   "execution_count": null,
   "metadata": {
    "collapsed": true
   },
   "outputs": [],
   "source": []
  }
 ],
 "metadata": {
  "kernelspec": {
   "display_name": "Python 3",
   "language": "python",
   "name": "python3"
  },
  "language_info": {
   "codemirror_mode": {
    "name": "ipython",
    "version": 3
   },
   "file_extension": ".py",
   "mimetype": "text/x-python",
   "name": "python",
   "nbconvert_exporter": "python",
   "pygments_lexer": "ipython3",
   "version": "3.7.1"
  }
 },
 "nbformat": 4,
 "nbformat_minor": 2
}
